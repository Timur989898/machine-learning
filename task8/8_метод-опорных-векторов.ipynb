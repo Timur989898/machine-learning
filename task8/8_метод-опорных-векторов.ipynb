{
 "cells": [
  {
   "cell_type": "code",
   "execution_count": 1,
   "metadata": {},
   "outputs": [
    {
     "name": "stdout",
     "output_type": "stream",
     "text": [
      "pygame 2.0.0 (SDL 2.0.12, python 3.7.4)\n",
      "Hello from the pygame community. https://www.pygame.org/contribute.html\n"
     ]
    }
   ],
   "source": [
    "import pygame as pygame\n",
    "import pandas as pd\n",
    "import numpy as np\n",
    "import matplotlib.pyplot as plt\n",
    "from sklearn import svm"
   ]
  },
  {
   "cell_type": "code",
   "execution_count": null,
   "metadata": {},
   "outputs": [
    {
     "data": {
      "image/png": "[encoded data removed]",
      "text/plain": [
       "<Figure size 432x288 with 1 Axes>"
      ]
     },
     "metadata": {
      "needs_background": "light"
     },
     "output_type": "display_data"
    }
   ],
   "source": [
    "coords_x = []\n",
    "coords_y = []\n",
    "coords = []\n",
    "clust = []\n",
    "    \n",
    "pygame.init()\n",
    "sc = pygame.display.set_mode((600, 400))\n",
    "sc.fill((255, 255, 255))\n",
    "pygame.display.update()\n",
    "     \n",
    "clock = pygame.time.Clock() \n",
    "FPS = 60 \n",
    "\n",
    "flag = True\n",
    "while flag:\n",
    "    for i in pygame.event.get():\n",
    "        if i.type == pygame.QUIT:\n",
    "            flag = False\n",
    "        if i.type == pygame.MOUSEBUTTONDOWN:\n",
    "            if i.button == 1:\n",
    "                pygame.draw.circle(sc, (255, 255, 50), i.pos, 10)\n",
    "                pygame.display.update()\n",
    "                clust.append(0)\n",
    "            elif i.button == 3:\n",
    "                pygame.draw.circle(sc, (0, 255, 255), i.pos, 10)\n",
    "                pygame.display.update()\n",
    "                clust.append(1)\n",
    "            coords_x.append(i.pos[0])\n",
    "            coords_y.append(i.pos[1])\n",
    "            coords.append(i.pos)\n",
    "        if i.type == pygame.KEYDOWN:\n",
    "            if i.key == pygame.K_RIGHT:\n",
    "                model = svm.SVC(kernel='linear', C=1.0)\n",
    "                X = np.array(coords)\n",
    "                Y = np.array(clust)\n",
    "                model.fit(X, Y)\n",
    "                m = model.coef0\n",
    "                w = model.coef_[0]\n",
    "                n = -w[0] / w[1]\n",
    "                xx = np.linspace(100, 1000, 1000)\n",
    "                yy = n * xx - (model.intercept_[0]) / w[1]\n",
    "                pygame.draw.line(sc,(0, 255, 255),(xx[0], yy[0]),(xx[-1], yy[-1]),2)\n",
    "                pygame.display.update()\n",
    "                plt.axis([0.0, 600.0, 600.0, 0.0])\n",
    "                plt.plot(xx, yy, c='r')\n",
    "                plt.scatter(X[:, 0], X[:, 1], c=Y)\n",
    "                plt.show()\n",
    "    clock.tick(FPS)"
   ]
  }
 ],
 "metadata": {
  "kernelspec": {
   "display_name": "Python 3",
   "language": "python",
   "name": "python3"
  },
  "language_info": {
   "codemirror_mode": {
    "name": "ipython",
    "version": 3
   },
   "file_extension": ".py",
   "mimetype": "text/x-python",
   "name": "python",
   "nbconvert_exporter": "python",
   "pygments_lexer": "ipython3",
   "version": "3.7.4"
  }
 },
 "nbformat": 4,
 "nbformat_minor": 2
}
