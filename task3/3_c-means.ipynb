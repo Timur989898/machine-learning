{
 "cells": [
  {
   "cell_type": "code",
   "execution_count": 1,
   "metadata": {},
   "outputs": [],
   "source": [
    "import random\n",
    "import numpy as np\n",
    "import matplotlib.cm as cm\n",
    "from matplotlib import pyplot as plt"
   ]
  },
  {
   "cell_type": "code",
   "execution_count": 2,
   "metadata": {},
   "outputs": [],
   "source": [
    "class C_Means():\n",
    "    def __init__(self, dataset, n_clusters=3, fuzzy=2, cut_param=.9):\n",
    "        self.dataset = dataset\n",
    "        self.n_clusters = n_clusters\n",
    "        self.fuzzy = fuzzy\n",
    "        self.cut_param = cut_param\n",
    "        self.max_n_iter = 100\n",
    "        self.tolerance = .01\n",
    "        self.fitted = False\n",
    "        self.labels = np.array([])\n",
    "        self.centroids = self.dataset[np.random.choice(self.dataset.shape[0], size=self.n_clusters, replace=False)]+1\n",
    "        self.U = np.array([])\n",
    "        \n",
    "    def cluster(self):\n",
    "        labels = np.array([])\n",
    "        for i in range(len(self.U)):\n",
    "            i_max = self.U[i][0]\n",
    "            i_max_indx = 0\n",
    "            for j in range(len(self.U[i])):\n",
    "                if (self.U[i][j] > i_max):\n",
    "                    i_max = self.U[i][j]\n",
    "                    i_max_indx = j\n",
    "            if (i_max > self.cut_param):\n",
    "                labels = np.append(list(labels), i_max_indx + 1).astype(int)\n",
    "            else:\n",
    "                    labels = np.append(list(labels), 0).astype(int)\n",
    "        return labels\n",
    "    \n",
    "    def get_labels(self):\n",
    "        list_max = self.U.max(axis=1)\n",
    "        list_max_labels = np.argmax(self.U, axis=1)\n",
    "        self.labels = np.array([idx+1 if list_max[k]>self.cut_param \\\n",
    "                                else 0 for k,idx in \\\n",
    "                                enumerate(list_max_labels)])\n",
    "        \n",
    "    def get_dist(self, list1, list2):\n",
    "        return np.sqrt(sum((i-j)**2 for i,j in zip(list1,list2)))\n",
    "    \n",
    "    def distribute_data(self):\n",
    "        dist = np.array([[self.get_dist(i,j) for i in self.centroids] for j in self.dataset])\n",
    "        self.U = (1/dist)**self.fuzzy\n",
    "        self.U = self.U / self.U.sum(axis=1)[:,None]        \n",
    "        \n",
    "    def recalculate_centroids(self):\n",
    "        self.centroids = (self.U.T).dot(self.dataset) / self.U.sum(axis=0)[:,None]\n",
    "        \n",
    "    def normalize_arr(self):\n",
    "            arr_with_inf = np.where(np.isinf(self.U))\n",
    "            lines = arr_with_inf[0]\n",
    "            rows = arr_with_inf[1]\n",
    "            for i in range(0, len(lines)):\n",
    "                self.U[lines[i]] = 0\n",
    "                self.U[lines[i]][rows[i]] = 1\n",
    "            \n",
    "    def fit(self):\n",
    "        iter = 1\n",
    "        while iter<self.max_n_iter:\n",
    "            prev_centroids = np.copy(self.centroids)\n",
    "            self.distribute_data()\n",
    "            self.recalculate_centroids()\n",
    "            if max([self.get_dist(i,j) for i,j in zip(self.centroids,prev_centroids)]) < self.tolerance:\n",
    "                break\n",
    "            iter += 1\n",
    "        self.fitted = True\n",
    "        "
   ]
  },
  {
   "cell_type": "code",
   "execution_count": 3,
   "metadata": {},
   "outputs": [
    {
     "data": {
      "text/plain": [
       "array([[ 43.87735941,  86.81851657],\n",
       "       [ 86.27484148, 132.03688755],\n",
       "       [ 43.3941534 ,  57.55676765],\n",
       "       [  5.98100231,  78.88980388],\n",
       "       [ 34.22138799,  87.53283196],\n",
       "       [ 11.04923991, 138.8343718 ],\n",
       "       [121.24960135, 114.74694606],\n",
       "       [ 73.34246885,  88.95652069],\n",
       "       [103.33597084,  73.48804737],\n",
       "       [146.32897958,  17.69439021],\n",
       "       [ 47.32938631,  17.66017681],\n",
       "       [  7.95813925,  26.38212964],\n",
       "       [ 14.30718939,  13.8101137 ],\n",
       "       [ 82.04235469, 134.49514387],\n",
       "       [  6.29724971, 120.91750565],\n",
       "       [  3.21569006,  70.1972075 ],\n",
       "       [ 48.09590642,  58.46556788],\n",
       "       [ 64.62336641,  29.84095942],\n",
       "       [121.85110248,   3.0308084 ],\n",
       "       [ 57.81492324,   6.80212505],\n",
       "       [ 70.81956676,  29.81827461],\n",
       "       [ 10.9531759 , 148.45011026],\n",
       "       [ 69.53097477, 125.191404  ],\n",
       "       [ 73.54652455, 136.10188757],\n",
       "       [106.49077922,  90.89069836],\n",
       "       [ 24.00346023,  57.46615224],\n",
       "       [149.31150768,  86.3954395 ],\n",
       "       [148.92793284, 128.66777005],\n",
       "       [ 24.98613601, 112.84969239],\n",
       "       [ 29.40842283, 137.92209768],\n",
       "       [ 12.82583683,  52.12204914],\n",
       "       [122.75694797,  59.94326908],\n",
       "       [120.13262265,  48.55657572],\n",
       "       [147.81832125,   9.58558015],\n",
       "       [ 35.45567886,  81.80406593],\n",
       "       [  0.34879807,  18.48051962],\n",
       "       [114.00749923, 110.77574671],\n",
       "       [ 88.25057289,  13.39918201],\n",
       "       [ 56.34589262,  56.97522224],\n",
       "       [ 40.20075359,  86.06744494],\n",
       "       [ 47.75748761,  60.25150054],\n",
       "       [ 53.38721847, 110.80190372],\n",
       "       [ 11.53855986,  24.58266782],\n",
       "       [ 79.48258038,  95.04343415],\n",
       "       [ 14.74638538, 135.682882  ],\n",
       "       [124.54160942, 118.94534965],\n",
       "       [  9.45629729, 133.23482582],\n",
       "       [136.30745732,  20.16773754],\n",
       "       [115.34977663,  10.25154011],\n",
       "       [ 65.00825879, 144.78732094],\n",
       "       [ 89.1435832 ,  18.41835116],\n",
       "       [114.0255697 , 124.85802092],\n",
       "       [128.38596711,  79.63354245],\n",
       "       [ 79.6490437 ,   2.56621965],\n",
       "       [ 41.06126023,   5.02044019],\n",
       "       [ 30.57065738,  75.81498668],\n",
       "       [107.29494232,  66.56115006],\n",
       "       [ 42.38921466,  59.47055177],\n",
       "       [ 14.46619448, 107.16049217],\n",
       "       [  2.05862582,  87.58670983],\n",
       "       [108.71244714,  11.56547207],\n",
       "       [102.33814504,  50.70545853],\n",
       "       [ 48.96225262,  15.29244335],\n",
       "       [ 25.10029499,  91.69277341],\n",
       "       [  8.60626847,  91.02351363],\n",
       "       [101.39693895,  72.98059005],\n",
       "       [ 48.91408331,  62.14085999],\n",
       "       [ 16.33676855, 142.52071982],\n",
       "       [ 41.44259015,  92.69374917],\n",
       "       [137.86951245,  65.68753187],\n",
       "       [ 32.65411503,  86.44363576],\n",
       "       [121.44149846,   5.84187634],\n",
       "       [  2.13399952, 121.79335338],\n",
       "       [ 69.79400755,  65.78894092],\n",
       "       [123.40165363, 110.87995667]])"
      ]
     },
     "execution_count": 3,
     "metadata": {},
     "output_type": "execute_result"
    }
   ],
   "source": [
    "n = 150\n",
    "dataset = np.array([[np.random.uniform(0, n), np.random.uniform(0, n)] for k in range(n // 2)])\n",
    "dataset"
   ]
  },
  {
   "cell_type": "code",
   "execution_count": 4,
   "metadata": {},
   "outputs": [],
   "source": [
    "test = C_Means(dataset, 3, 2, .5)\n",
    "test.fit()\n",
    "pred = test.cluster()"
   ]
  },
  {
   "cell_type": "code",
   "execution_count": 5,
   "metadata": {},
   "outputs": [],
   "source": [
    "import numpy as np\n",
    "\n",
    "x = np.arange(n)\n",
    "ys = [i+x+(i*x)**2 for i in range(10)]\n",
    "colors = cm.rainbow(np.linspace(0, 1, len(ys)))"
   ]
  },
  {
   "cell_type": "code",
   "execution_count": 6,
   "metadata": {},
   "outputs": [
    {
     "data": {
      "image/png": "[encoded data removed]",
      "text/plain": [
       "<Figure size 288x288 with 1 Axes>"
      ]
     },
     "metadata": {
      "needs_background": "light"
     },
     "output_type": "display_data"
    }
   ],
   "source": [
    "plt.figure(figsize=(4, 4))\n",
    "plt.scatter(dataset[:, 0], dataset[:, 1], color=colors[pred])\n",
    "plt.show()"
   ]
  },
  {
   "cell_type": "markdown",
   "metadata": {},
   "source": [
    "PyGame"
   ]
  },
  {
   "cell_type": "code",
   "execution_count": 7,
   "metadata": {},
   "outputs": [
    {
     "name": "stdout",
     "output_type": "stream",
     "text": [
      "[[ 7.95711675 18.45300402]\n",
      " [ 2.34812755 15.95520138]\n",
      " [17.47020387 13.06516625]\n",
      " [ 8.59010164  0.34985931]\n",
      " [18.8269353   4.67165953]\n",
      " [ 9.92076098 19.75373471]\n",
      " [ 3.37849429 13.72522589]]\n",
      "[[ 8.95711675 19.45300402]\n",
      " [19.8269353   5.67165953]\n",
      " [ 9.59010164  1.34985931]]\n",
      "[[ 1.41421356 17.44291717 17.18092543]\n",
      " [ 7.47752376 20.27954519 16.30221474]\n",
      " [10.64317264  7.76003381 14.11893862]\n",
      " [19.10666998 12.4333418   1.41421356]\n",
      " [17.77361706  1.41421356  9.81597946]\n",
      " [ 1.00947964 17.21734971 18.40684561]\n",
      " [ 7.99552818 18.31423334 13.84679616]]\n",
      "[[  2.16011948 574.31954579 555.3258567 ]\n",
      " [ 87.43473612 802.73796286 494.17566419]\n",
      " [191.59326432  94.94556781 359.01754024]\n",
      " [703.19825306 270.65589761   2.16011948]\n",
      " [598.79697455   2.16011948 160.0652214 ]\n",
      " [  1.02118799 557.94550055 647.23987569]\n",
      " [101.46751364 640.02539619 343.82050609]]\n",
      "[[1131.80552196]\n",
      " [1384.34836317]\n",
      " [ 645.55637237]\n",
      " [ 976.01427014]\n",
      " [ 761.02231543]\n",
      " [1206.20656424]\n",
      " [1085.31341592]]\n",
      "[[0.00190856 0.5074366  0.49065484]\n",
      " [0.06315949 0.57986702 0.35697349]\n",
      " [0.29678781 0.14707556 0.55613662]\n",
      " [0.72047948 0.27730732 0.0022132 ]\n",
      " [0.78683235 0.00283844 0.21032921]\n",
      " [0.00084661 0.46256215 0.53659124]\n",
      " [0.09349144 0.58971481 0.31679375]]\n"
     ]
    }
   ],
   "source": [
    "A1 = np.array([[np.random.uniform(0,20),np.random.uniform(0,20)] for k in range(1,8)])\n",
    "print(A1)\n",
    "num = 3\n",
    "A2 = A1[np.random.choice(A1.shape[0], size=num, replace=False)]+1\n",
    "print(A2)\n",
    "A3 = np.zeros((A1.shape[0], num))\n",
    "\n",
    "def dist(list1,list2):\n",
    "    return np.sqrt(sum((i-j)**2 for i,j in zip(list1,list2)))\n",
    "\n",
    "A4 = np.array([[dist(i,j) for i in A2] for j in A1])\n",
    "print(A4)\n",
    "\n",
    "np.seterr(divide='ignore')\n",
    "m = .1\n",
    "u = (1/A4)**(2/(m-1))\n",
    "#um = (u / u.sum(axis=1)[:,None])\n",
    "\n",
    "print(u)\n",
    "print(u.sum(axis=1)[:,None])\n",
    "print(u / u.sum(axis=1)[:,None])"
   ]
  },
  {
   "cell_type": "code",
   "execution_count": 8,
   "metadata": {},
   "outputs": [
    {
     "name": "stdout",
     "output_type": "stream",
     "text": [
      "pygame 2.0.0 (SDL 2.0.12, python 3.7.4)\n",
      "Hello from the pygame community. https://www.pygame.org/contribute.html\n"
     ]
    },
    {
     "data": {
      "image/png": "[encoded data removed]",
      "text/plain": [
       "<Figure size 432x288 with 1 Axes>"
      ]
     },
     "metadata": {
      "needs_background": "light"
     },
     "output_type": "display_data"
    }
   ],
   "source": [
    "import pygame\n",
    "\n",
    "data = np.empty((0,2), dtype='f')\n",
    "\n",
    "def createData(position):\n",
    "    (x,y) = position\n",
    "    r = np.random.uniform(0,30)\n",
    "    phi = np.random.uniform(0,2*np.pi)\n",
    "    coord = [x + r*np.cos(phi), y + r*np.sin(phi)]\n",
    "    global data\n",
    "    data = np.append(data,[coord],axis=0)\n",
    "    \n",
    "radius = 2\n",
    "color = (0,0,255)\n",
    "thickness = 0\n",
    "\n",
    "bg_color = (255,255,255)\n",
    "(width,height) = (640,480)\n",
    "screen = pygame.display.set_mode((width,height))\n",
    "pygame.display.set_caption('data generator')\n",
    "\n",
    "running = True\n",
    "pushing = False\n",
    "while running:\n",
    "    for event in pygame.event.get():\n",
    "        if event.type == pygame.QUIT:\n",
    "            running = False\n",
    "        elif event.type == pygame.MOUSEBUTTONDOWN:\n",
    "            pushing = True\n",
    "        elif event.type == pygame.MOUSEBUTTONUP:\n",
    "            pushing = False\n",
    "            \n",
    "    if pushing:\n",
    "        createData(pygame.mouse.get_pos())\n",
    "            \n",
    "            \n",
    "    screen.fill(bg_color)\n",
    "    for point in data:\n",
    "        pygame.draw.circle(screen,color,(int(point[0]),int(point[1])),radius,thickness)\n",
    "    pygame.display.flip()\n",
    "    \n",
    "pygame.quit()\n",
    "\n",
    "\n",
    "cmeans = C_Means(data, 4, 3, .99)\n",
    "cmeans.fit()\n",
    "cmeans.get_labels()\n",
    "\n",
    "\n",
    "import matplotlib.pyplot as plt\n",
    "color_list = np.array(['black','red','green','blue','yellow'])\n",
    "plt.figure()\n",
    "plt.scatter(data[:,0], data[:,1], c=color_list[cmeans.labels])\n",
    "plt.scatter(cmeans.centroids[:,0], cmeans.centroids[:,1], c='black', marker='x')\n",
    "plt.show()"
   ]
  }
 ],
 "metadata": {
  "kernelspec": {
   "display_name": "Python 3",
   "language": "python",
   "name": "python3"
  },
  "language_info": {
   "codemirror_mode": {
    "name": "ipython",
    "version": 3
   },
   "file_extension": ".py",
   "mimetype": "text/x-python",
   "name": "python",
   "nbconvert_exporter": "python",
   "pygments_lexer": "ipython3",
   "version": "3.7.4"
  }
 },
 "nbformat": 4,
 "nbformat_minor": 2
}
